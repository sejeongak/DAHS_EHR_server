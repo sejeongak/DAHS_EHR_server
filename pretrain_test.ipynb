{
 "cells": [
  {
   "cell_type": "code",
   "execution_count": 1,
   "metadata": {},
   "outputs": [
    {
     "name": "stderr",
     "output_type": "stream",
     "text": [
      "/home/DAHS3/anaconda3/envs/sj/lib/python3.9/site-packages/tqdm/auto.py:21: TqdmWarning: IProgress not found. Please update jupyter and ipywidgets. See https://ipywidgets.readthedocs.io/en/stable/user_install.html\n",
      "  from .autonotebook import tqdm as notebook_tqdm\n"
     ]
    }
   ],
   "source": [
    "import argparse\n",
    "import torch\n",
    "import torch.nn as nn\n",
    "import torch.optim as optim\n",
    "from torch.cuda.amp import autocast, GradScaler\n",
    "from torch.nn.parallel import DistributedDataParallel as DDP\n",
    "from torch.utils.data import DataLoader\n",
    "import wandb\n",
    "from sklearn.metrics import precision_score\n",
    "from accelerate import Accelerator\n",
    "from accelerate import DistributedType\n",
    "import os\n",
    "from utils.utils import seed_everything\n",
    "from transformers import LongformerTokenizer\n",
    "from datasets import EHR_Longformer_Dataset\n",
    "import pandas as pd\n",
    "import numpy as np\n",
    "from pathlib import Path\n",
    "from tqdm import tqdm\n",
    "import torch.nn.functional as F\n",
    "from models.longformernormal import LongformerPretrainNormal\n",
    "from torch.optim.lr_scheduler import LinearLR, SequentialLR, ExponentialLR, LambdaLR, CosineAnnealingWarmRestarts\n",
    "from pretrain_train import train\n",
    "import logging\n",
    "import sys\n",
    "from torch.utils.data.distributed import DistributedSampler"
   ]
  },
  {
   "cell_type": "code",
   "execution_count": 2,
   "metadata": {},
   "outputs": [],
   "source": [
    "def configure_optimizers(model, args, n_steps):\n",
    "    optimizer = optim.AdamW(model.parameters(), lr=args.learning_rate)\n",
    "    \n",
    "    n_warmup_steps = int(n_steps * 0.1)\n",
    "    n_decay_steps = n_steps - n_warmup_steps\n",
    "    \n",
    "    warmup = LinearLR(optimizer, \n",
    "                        start_factor=0.01,\n",
    "                        end_factor=1.0,\n",
    "                        total_iters=n_warmup_steps)\n",
    "    \n",
    "    decay = LinearLR(optimizer,\n",
    "                        start_factor=1.0,\n",
    "                        end_factor=0.01,\n",
    "                        total_iters=n_decay_steps)\n",
    "    \n",
    "    scheduler = SequentialLR(optimizer, \n",
    "                                schedulers=[warmup, decay],\n",
    "                                milestones=[n_warmup_steps])\n",
    "\n",
    "    return optimizer, {\"scheduler\": scheduler, \"interval\": \"step\"}"
   ]
  },
  {
   "cell_type": "code",
   "execution_count": 3,
   "metadata": {},
   "outputs": [],
   "source": [
    "parser = argparse.ArgumentParser()\n",
    "    \n",
    "# Required parameters\n",
    "parser.add_argument(\"--exp_name\", type=str, default=\"pretrain\")\n",
    "parser.add_argument(\"--save_path\", type=str, default=\"./results\")\n",
    "parser.add_argument(\"--seed\", type=int, default=42)\n",
    "parser.add_argument(\"--checkpoint_dir\", type=str, default=\"./checkpoints\")\n",
    "\n",
    "# Model parameters\n",
    "parser.add_argument(\"--vocab_size\", type=int, default=50265)\n",
    "parser.add_argument(\"--itemid_size\", type=int, default=4016)\n",
    "parser.add_argument(\"--unit_size\", type=int, default=60)\n",
    "parser.add_argument(\"--gender_size\", type=int, default=2)\n",
    "parser.add_argument(\"--continuous_size\", type=int, default=3)\n",
    "parser.add_argument(\"--task_size\", type=int, default=4)\n",
    "parser.add_argument(\"--max_position_embeddings\", type=int, default=5000)\n",
    "parser.add_argument(\"--max_age\", type=int, default=100)\n",
    "parser.add_argument(\"--batch_size\", type=int, default=8)\n",
    "parser.add_argument(\"--resume\", type=bool, default=False)\n",
    "parser.add_argument(\"--pin_memory\", type=bool, default=True)\n",
    "parser.add_argument(\"--nodes\", type=int, default=1)\n",
    "parser.add_argument(\"--gpus\", type=int, default=2)\n",
    "parser.add_argument(\"--start_epoch\", type=int, default=0)\n",
    "parser.add_argument(\"--epochs\", type=int, default=200)\n",
    "parser.add_argument(\"--log_every_n_steps\", type=int, default=100)\n",
    "parser.add_argument(\"--acc\", type=int, default=1)\n",
    "parser.add_argument(\"--resume_checkpoint\", type=str, default=None)\n",
    "parser.add_argument(\"--num_workers\", type=int, default=0)\n",
    "parser.add_argument(\"--embedding_size\", type=int, default=768)\n",
    "parser.add_argument(\"--num_hidden_layers\", type=int, default=12)\n",
    "parser.add_argument(\"--num_attention_heads\", type=int, default=6)\n",
    "parser.add_argument(\"--intermediate_size\", type=int, default=1536)\n",
    "parser.add_argument(\"--learning_rate\", type=float, default=1e-4)\n",
    "parser.add_argument(\"--dropout_prob\", type=float, default=0.1)\n",
    "parser.add_argument(\"--device\", type=str, default=\"cuda\")\n",
    "parser.add_argument(\"--gpu_mixed_precision\", type=bool, default=True)\n",
    "parser.add_argument(\"--patience\", type=int, default=5)\n",
    "\n",
    "\n",
    "\n",
    "args = parser.parse_args([])\n",
    "args.attention_window = [512] * args.num_hidden_layers"
   ]
  },
  {
   "cell_type": "code",
   "execution_count": 4,
   "metadata": {},
   "outputs": [],
   "source": [
    "def compute_mlm_loss(predictions, labels):\n",
    "    mask = torch.ones_like(labels)\n",
    "    mask[:, :3] = 0  \n",
    "    \n",
    "    predictions = predictions.reshape(-1, predictions.size(-1))\n",
    "    labels = labels.reshape(-1)\n",
    "    mask = mask.reshape(-1)\n",
    "    loss_fct = nn.CrossEntropyLoss(ignore_index=-100)\n",
    "    loss = loss_fct(predictions[mask.bool()], labels[mask.bool()])\n",
    "    \n",
    "    return loss\n",
    "\n",
    "def calculate_mlm_precision(predictions, labels):\n",
    "    mask = torch.ones_like(labels)\n",
    "    mask[:, :3] = 0  \n",
    "    \n",
    "    predicted_labels = predictions.argmax(dim=-1)\n",
    "    valid_mask = labels != -100\n",
    "    \n",
    "    correct_predictions = (predicted_labels == labels) & valid_mask & mask.bool()\n",
    "    \n",
    "    num_correct = correct_predictions.sum().item()\n",
    "    num_valid = (valid_mask & mask.bool()).sum().item()\n",
    "    \n",
    "    precision = num_correct / num_valid if num_valid > 0 else 0.0\n",
    "    \n",
    "    return precision"
   ]
  },
  {
   "cell_type": "code",
   "execution_count": 6,
   "metadata": {},
   "outputs": [
    {
     "name": "stderr",
     "output_type": "stream",
     "text": [
      "Seed set to 42\n",
      "/home/DAHS3/anaconda3/envs/sj/lib/python3.9/site-packages/transformers/tokenization_utils_base.py:1601: FutureWarning: `clean_up_tokenization_spaces` was not set. It will be set to `True` by default. This behavior will be depracted in transformers v4.45, and will be then set to `False` by default. For more details check this issue: https://github.com/huggingface/transformers/issues/31884\n",
      "  warnings.warn(\n",
      "/home/DAHS3/anaconda3/envs/sj/lib/python3.9/site-packages/accelerate/accelerator.py:488: FutureWarning: `torch.cuda.amp.GradScaler(args...)` is deprecated. Please use `torch.amp.GradScaler('cuda', args...)` instead.\n",
      "  self.scaler = torch.cuda.amp.GradScaler(**kwargs)\n"
     ]
    },
    {
     "name": "stdout",
     "output_type": "stream",
     "text": [
      "Distributed Type: NO\n"
     ]
    },
    {
     "name": "stderr",
     "output_type": "stream",
     "text": [
      "/tmp/ipykernel_1988280/3974574652.py:30: FutureWarning: You are using `torch.load` with `weights_only=False` (the current default value), which uses the default pickle module implicitly. It is possible to construct malicious pickle data which will execute arbitrary code during unpickling (See https://github.com/pytorch/pytorch/blob/main/SECURITY.md#untrusted-models for more details). In a future release, the default value for `weights_only` will be flipped to `True`. This limits the functions that could be executed during unpickling. Arbitrary objects will no longer be allowed to be loaded via this mode unless they are explicitly allowlisted by the user via `torch.serialization.add_safe_globals`. We recommend you start setting `weights_only=True` for any use case where you don't have full control of the loaded file. Please open an issue on GitHub for any issues related to this experimental feature.\n",
      "  checkpoint = torch.load(model_path, map_location=device)\n"
     ]
    },
    {
     "name": "stdout",
     "output_type": "stream",
     "text": [
      "Pre-trained model loaded successfully.\n"
     ]
    }
   ],
   "source": [
    "seed_everything(args.seed)\n",
    "    \n",
    "tokenizer = LongformerTokenizer.from_pretrained(\"allenai/longformer-base-4096\")\n",
    "\n",
    "itemid2idx = pd.read_pickle(\"datasets/entire_itemid2idx.pkl\")\n",
    "unit2idx = pd.read_pickle(\"datasets/unit2idx.pkl\")\n",
    "accelerator = Accelerator(mixed_precision=\"fp16\" if args.gpu_mixed_precision else \"no\")\n",
    "print(f\"Distributed Type: {accelerator.distributed_type}\")\n",
    "device = accelerator.device\n",
    "\n",
    "pretrained_model = LongformerPretrainNormal(\n",
    "        vocab_size=args.vocab_size,\n",
    "        itemid_size=args.itemid_size,\n",
    "        max_position_embeddings=args.max_position_embeddings,\n",
    "        unit_size=args.unit_size,\n",
    "        continuous_size=args.continuous_size,\n",
    "        task_size=args.task_size,\n",
    "        max_age=args.max_age,\n",
    "        gender_size=args.gender_size,\n",
    "        embedding_size=args.embedding_size,\n",
    "        num_hidden_layers=args.num_hidden_layers,\n",
    "        num_attention_heads=args.num_attention_heads,\n",
    "        intermediate_size=args.intermediate_size,\n",
    "        learning_rate=args.learning_rate,\n",
    "        dropout_prob=args.dropout_prob,\n",
    "        gpu_mixed_precision=args.gpu_mixed_precision,\n",
    "    ).to(device)\n",
    "\n",
    "model_path = \"./results/best_pretrain_model.pth\"\n",
    "checkpoint = torch.load(model_path, map_location=device)\n",
    "state_dict = checkpoint['model_state_dict']\n",
    "\n",
    "new_state_dict = {}\n",
    "for k, v in state_dict.items():\n",
    "    if k.startswith('module.module.'):\n",
    "        new_state_dict[k[14:]] = v  \n",
    "    elif k.startswith('module.'):\n",
    "        new_state_dict[k[7:]] = v \n",
    "    else:\n",
    "        new_state_dict[k] = v  \n",
    "    \n",
    "pretrained_model.load_state_dict(new_state_dict)\n",
    "print(\"Pre-trained model loaded successfully.\")\n",
    "\n",
    "valid_dataset = EHR_Longformer_Dataset(Path(\"./datasets\"), \"valid\", tokenizer, itemid2idx, unit2idx, use_itemid=True)\n",
    "test_dataset = EHR_Longformer_Dataset(Path(\"./datasets\"), \"test\", tokenizer, itemid2idx, unit2idx, use_itemid=True)\n",
    "\n",
    "\n",
    "valid_loader = DataLoader(valid_dataset, \n",
    "                            batch_size=args.batch_size,\n",
    "                            shuffle=False,  # shuffle should be False if using DistributedSampler\n",
    "                            pin_memory=args.pin_memory, \n",
    "                            num_workers=args.num_workers,\n",
    "                            )\n",
    "\n",
    "test_loader = DataLoader(test_dataset, \n",
    "                            batch_size=args.batch_size, \n",
    "                            shuffle=False,  # Validation should not be shuffled\n",
    "                            pin_memory=args.pin_memory, \n",
    "                            num_workers=args.num_workers,\n",
    "                            )\n",
    "\n",
    "n_steps = (len(valid_dataset) // args.batch_size) * args.epochs\n",
    "\n"
   ]
  },
  {
   "cell_type": "code",
   "execution_count": 7,
   "metadata": {},
   "outputs": [
    {
     "name": "stderr",
     "output_type": "stream",
     "text": [
      "Validation: 100%|██████████| 673/673 [13:52<00:00,  1.24s/it]"
     ]
    },
    {
     "name": "stdout",
     "output_type": "stream",
     "text": [
      "Validation Loss: 0.6248296253039968\n",
      "Validation Precision: 0.7954707614620776\n"
     ]
    },
    {
     "name": "stderr",
     "output_type": "stream",
     "text": [
      "\n"
     ]
    }
   ],
   "source": [
    "val_loss = []\n",
    "val_precision = []\n",
    "\n",
    "pretrained_model.eval()\n",
    "with torch.no_grad():\n",
    "    for step, batch in tqdm(enumerate(valid_loader), desc=\"Validation\", total=len(valid_loader)):\n",
    "        batch = tuple(t.to(device) if isinstance(t, torch.Tensor) else t for t in batch)\n",
    "        input_ids, attention_mask, age_ids, gender_ids, value_ids, unit_ids, time_ids, continuous_ids, position_ids, token_type_ids, task_token, labels = batch\n",
    "        \n",
    "        batch_size = labels.size(0)\n",
    "        additional_tokens = torch.tensor([1, 1, 1]).unsqueeze(0).repeat(batch_size, 1).to(device)\n",
    "        labels = torch.cat([additional_tokens, labels], dim=1)\n",
    "        # with torch.autocast(device_type=device.type, dtype=torch.float16):\n",
    "        outputs = pretrained_model(\n",
    "            input_ids = input_ids,\n",
    "            value_ids = value_ids,\n",
    "            unit_ids = unit_ids,\n",
    "            time_ids = time_ids,                \n",
    "            continuous_ids = continuous_ids,\n",
    "            position_ids = position_ids,\n",
    "            token_type_ids = token_type_ids,\n",
    "            age_ids = age_ids,\n",
    "            gender_ids = gender_ids,\n",
    "            task_token = task_token,\n",
    "            attention_mask=attention_mask,\n",
    "            global_attention_mask=None,\n",
    "            labels=labels,\n",
    "            return_dict=True,)\n",
    "            \n",
    "        prediction_scores = outputs.logits[:, 3:, :]\n",
    "        labels = labels[:, 3:]\n",
    "        \n",
    "        loss = compute_mlm_loss(prediction_scores, labels)\n",
    "        precision = calculate_mlm_precision(prediction_scores, labels)\n",
    "        val_precision.append(precision)\n",
    "        val_loss.append(loss.item())\n",
    "    \n",
    "    \n",
    "    \n",
    "    print(f\"Validation Loss: {np.mean(val_loss)}\")\n",
    "    print(f\"Validation Precision: {np.mean(val_precision)}\")"
   ]
  },
  {
   "cell_type": "code",
   "execution_count": 8,
   "metadata": {},
   "outputs": [
    {
     "name": "stderr",
     "output_type": "stream",
     "text": [
      "Test: 100%|██████████| 673/673 [13:54<00:00,  1.24s/it]"
     ]
    },
    {
     "name": "stdout",
     "output_type": "stream",
     "text": [
      "Test Loss: 0.6274875504743823\n",
      "Test Precision: 0.7938126986898193\n"
     ]
    },
    {
     "name": "stderr",
     "output_type": "stream",
     "text": [
      "\n"
     ]
    }
   ],
   "source": [
    "test_loss = []\n",
    "test_precision = []\n",
    "\n",
    "pretrained_model.eval()\n",
    "with torch.no_grad():\n",
    "    for step, batch in tqdm(enumerate(test_loader), desc=\"Test\", total=len(test_loader)):\n",
    "        batch = tuple(t.to(device) if isinstance(t, torch.Tensor) else t for t in batch)\n",
    "        input_ids, attention_mask, age_ids, gender_ids, value_ids, unit_ids, time_ids, continuous_ids, position_ids, token_type_ids, task_token, labels = batch\n",
    "        \n",
    "        batch_size = labels.size(0)\n",
    "        additional_tokens = torch.tensor([1, 1, 1]).unsqueeze(0).repeat(batch_size, 1).to(device)\n",
    "        labels = torch.cat([additional_tokens, labels], dim=1)\n",
    "        # with torch.autocast(device_type=device.type, dtype=torch.float16):\n",
    "        outputs = pretrained_model(\n",
    "            input_ids = input_ids,\n",
    "            value_ids = value_ids,\n",
    "            unit_ids = unit_ids,\n",
    "            time_ids = time_ids,                \n",
    "            continuous_ids = continuous_ids,\n",
    "            position_ids = position_ids,\n",
    "            token_type_ids = token_type_ids,\n",
    "            age_ids = age_ids,\n",
    "            gender_ids = gender_ids,\n",
    "            task_token = task_token,\n",
    "            attention_mask=attention_mask,\n",
    "            global_attention_mask=None,\n",
    "            labels=labels,\n",
    "            return_dict=True,)\n",
    "            \n",
    "        prediction_scores = outputs.logits[:, 3:, :]\n",
    "        labels = labels[:, 3:]\n",
    "        \n",
    "        loss = compute_mlm_loss(prediction_scores, labels)\n",
    "        precision = calculate_mlm_precision(prediction_scores, labels)\n",
    "        test_precision.append(precision)\n",
    "        test_loss.append(loss.item())\n",
    "    \n",
    "    \n",
    "    print(f\"Test Loss: {np.mean(test_loss)}\")\n",
    "    print(f\"Test Precision: {np.mean(test_precision)}\")"
   ]
  },
  {
   "cell_type": "code",
   "execution_count": null,
   "metadata": {},
   "outputs": [],
   "source": []
  }
 ],
 "metadata": {
  "kernelspec": {
   "display_name": "sj",
   "language": "python",
   "name": "python3"
  },
  "language_info": {
   "codemirror_mode": {
    "name": "ipython",
    "version": 3
   },
   "file_extension": ".py",
   "mimetype": "text/x-python",
   "name": "python",
   "nbconvert_exporter": "python",
   "pygments_lexer": "ipython3",
   "version": "3.9.18"
  }
 },
 "nbformat": 4,
 "nbformat_minor": 2
}
